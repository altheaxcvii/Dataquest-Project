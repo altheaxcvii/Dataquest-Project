{
 "cells": [
  {
   "attachments": {},
   "cell_type": "markdown",
   "metadata": {},
   "source": [
    "<b>Exploring Hacker News</b><br>\n",
    "In this project, we will look at two types of posts, Ask HN and Show HN from Hacker News.<br>\n",
    "We will be comparing the two types of posts to see whether Ask HN or Show HN recevies more comments on average and whether there is a optimal time to post an article that would get more comments.<br>\n",
    "The dataset was downloaded from Kaggle and had been pre-cleaned.<br>\n",
    "This project is part of Dataquest.io Data Analyst/Data Scientist career path. "
   ]
  },
  {
   "cell_type": "code",
   "execution_count": 1,
   "metadata": {},
   "outputs": [],
   "source": [
    "#Importing packages needed\n",
    "\n",
    "import pandas as pd\n",
    "import numpy as np\n",
    "import re\n",
    "from scipy import stats\n",
    "from scipy.stats import levene\n",
    "import matplotlib.pyplot as plt\n",
    "import datetime as dt\n",
    "import seaborn as sns\n"
   ]
  },
  {
   "cell_type": "markdown",
   "metadata": {},
   "source": [
    "Importing file"
   ]
  },
  {
   "cell_type": "code",
   "execution_count": 2,
   "metadata": {},
   "outputs": [],
   "source": [
    "hn = pd.read_csv('HN_posts_year_to_Sep_26_2016.csv')"
   ]
  },
  {
   "cell_type": "code",
   "execution_count": 3,
   "metadata": {},
   "outputs": [
    {
     "name": "stdout",
     "output_type": "stream",
     "text": [
      "<class 'pandas.core.frame.DataFrame'>\n",
      "RangeIndex: 293119 entries, 0 to 293118\n",
      "Data columns (total 7 columns):\n",
      " #   Column        Non-Null Count   Dtype \n",
      "---  ------        --------------   ----- \n",
      " 0   id            293119 non-null  int64 \n",
      " 1   title         293119 non-null  object\n",
      " 2   url           279256 non-null  object\n",
      " 3   num_points    293119 non-null  int64 \n",
      " 4   num_comments  293119 non-null  int64 \n",
      " 5   author        293119 non-null  object\n",
      " 6   created_at    293119 non-null  object\n",
      "dtypes: int64(3), object(4)\n",
      "memory usage: 15.7+ MB\n",
      "None\n"
     ]
    }
   ],
   "source": [
    "print(hn.info())"
   ]
  },
  {
   "attachments": {},
   "cell_type": "markdown",
   "metadata": {},
   "source": [
    "|Column|Description|\n",
    "| --- | --- |\n",
    "id| the unique identifier for the post\n",
    "title| the title of the post\n",
    "url| the URL that the posts (if any)\n",
    "num_points| total upvotes minus total downvotes\n",
    "num_comments| the number of comments\n",
    "author| the username of the author of the post\n",
    "created_at| the date and time of submission"
   ]
  },
  {
   "cell_type": "code",
   "execution_count": 4,
   "metadata": {},
   "outputs": [
    {
     "name": "stdout",
     "output_type": "stream",
     "text": [
      "         id                                              title  \\\n",
      "0  12579008  You have two days to comment if you want stem ...   \n",
      "1  12579005                         SQLAR  the SQLite Archiver   \n",
      "2  12578997  What if we just printed a flatscreen televisio...   \n",
      "3  12578989                                  algorithmic music   \n",
      "4  12578979  How the Data Vault Enables the Next-Gen Data W...   \n",
      "\n",
      "                                                 url  num_points  \\\n",
      "0  http://www.regulations.gov/document?D=FDA-2015...           1   \n",
      "1   https://www.sqlite.org/sqlar/doc/trunk/README.md           1   \n",
      "2  https://medium.com/vanmoof/our-secrets-out-f21...           1   \n",
      "3  http://cacm.acm.org/magazines/2011/7/109891-al...           1   \n",
      "4  https://www.talend.com/blog/2016/05/12/talend-...           1   \n",
      "\n",
      "   num_comments        author      created_at  \n",
      "0             0       altstar  9/26/2016 3:26  \n",
      "1             0      blacksqr  9/26/2016 3:24  \n",
      "2             0  pavel_lishin  9/26/2016 3:19  \n",
      "3             0  poindontcare  9/26/2016 3:16  \n",
      "4             0   markgainor1  9/26/2016 3:14  \n"
     ]
    }
   ],
   "source": [
    "print(hn.head())"
   ]
  },
  {
   "cell_type": "code",
   "execution_count": 5,
   "metadata": {},
   "outputs": [],
   "source": [
    "#Shortlisting posts that starts with 'Ask HN' or 'Show HN'\n",
    "hn_shortlist = hn[hn['title'].str.contains('Ask HN|Show HN', case=False)]\n",
    "#further shortlisting into two dataframes, hn_ask and hn_show\n",
    "hn_ask = hn[hn['title'].str.contains('Ask HN', case=False)]\n",
    "hn_show = hn[hn['title'].str.contains('Show HN', case=False)]"
   ]
  },
  {
   "attachments": {},
   "cell_type": "markdown",
   "metadata": {},
   "source": [
    "Determining if ask posts or show posts receive more comments on average:"
   ]
  },
  {
   "cell_type": "code",
   "execution_count": 6,
   "metadata": {},
   "outputs": [
    {
     "name": "stdout",
     "output_type": "stream",
     "text": [
      "HN Ask\n",
      " count    9147.000000\n",
      "mean       10.385919\n",
      "std        43.489889\n",
      "min         0.000000\n",
      "25%         1.000000\n",
      "50%         2.000000\n",
      "75%         6.000000\n",
      "max      1007.000000\n",
      "Name: num_comments, dtype: float64\n",
      "\n",
      "HN Show\n",
      " count    10189.000000\n",
      "mean         4.909805\n",
      "std         16.358716\n",
      "min          0.000000\n",
      "25%          0.000000\n",
      "50%          0.000000\n",
      "75%          2.000000\n",
      "max        306.000000\n",
      "Name: num_comments, dtype: float64\n"
     ]
    }
   ],
   "source": [
    "print('HN Ask\\n', hn_ask['num_comments'].describe())\n",
    "print('\\nHN Show\\n', hn_show['num_comments'].describe())"
   ]
  },
  {
   "attachments": {},
   "cell_type": "markdown",
   "metadata": {},
   "source": [
    "On average, HN Show posts receive more comments than HN Ask posts (10.39 vs 4.91)<br>\n",
    "Based on the quartile statistics, it looks like the most posts in both HN Show and HN Ask does not have comments, with some viral posts with lots of comments that may skew the mean."
   ]
  },
  {
   "cell_type": "code",
   "execution_count": 7,
   "metadata": {},
   "outputs": [
    {
     "name": "stdout",
     "output_type": "stream",
     "text": [
      "(-1.0079999999999998, 50.35]    8773\n",
      "(50.35, 100.7]                   232\n",
      "(100.7, 151.05]                   67\n",
      "(151.05, 201.4]                   22\n",
      "(201.4, 251.75]                   14\n",
      "(251.75, 302.1]                    8\n",
      "(302.1, 352.45]                    6\n",
      "(352.45, 402.8]                    2\n",
      "(402.8, 453.15]                    1\n",
      "(453.15, 503.5]                    3\n",
      "(503.5, 553.85]                    2\n",
      "(553.85, 604.2]                    1\n",
      "(604.2, 654.55]                    2\n",
      "(654.55, 704.9]                    2\n",
      "(704.9, 755.25]                    2\n",
      "(755.25, 805.6]                    2\n",
      "(805.6, 855.95]                    1\n",
      "(855.95, 906.3]                    3\n",
      "(906.3, 956.65]                    3\n",
      "(956.65, 1007.0]                   1\n",
      "Name: num_comments, dtype: int64\n"
     ]
    },
    {
     "data": {
      "image/png": "[encoded data removed]",
      "text/plain": [
       "<Figure size 640x480 with 1 Axes>"
      ]
     },
     "metadata": {},
     "output_type": "display_data"
    }
   ],
   "source": [
    "#Looking at distribution of comments in Ask HN\n",
    "hn_askplot = hn_ask['num_comments'].value_counts(bins=20).sort_index()\n",
    "print(hn_askplot)\n",
    "a = hn_ask['num_comments'].plot(kind='hist', bins = 20, log=True)\n",
    "plt.yticks(ticks=a.get_yticks(),labels=['0.01', '0.1','1','10', '100', '1000' , '10,000', '100,000', '1,000,000'])\n",
    "plt.ylim(top=10000)\n",
    "plt.xlabel('Number of comments per post')\n",
    "plt.ylabel('Frequency (log scale)')\n",
    "plt.show()"
   ]
  },
  {
   "cell_type": "code",
   "execution_count": 8,
   "metadata": {},
   "outputs": [
    {
     "name": "stdout",
     "output_type": "stream",
     "text": [
      "(-0.307, 15.3]    9424\n",
      "(15.3, 30.6]       315\n",
      "(30.6, 45.9]       183\n",
      "(45.9, 61.2]       107\n",
      "(61.2, 76.5]        55\n",
      "(76.5, 91.8]        34\n",
      "(91.8, 107.1]       21\n",
      "(107.1, 122.4]       8\n",
      "(122.4, 137.7]      13\n",
      "(137.7, 153.0]       8\n",
      "(153.0, 168.3]       6\n",
      "(168.3, 183.6]       2\n",
      "(183.6, 198.9]       3\n",
      "(198.9, 214.2]       3\n",
      "(214.2, 229.5]       0\n",
      "(229.5, 244.8]       1\n",
      "(244.8, 260.1]       2\n",
      "(260.1, 275.4]       0\n",
      "(275.4, 290.7]       2\n",
      "(290.7, 306.0]       2\n",
      "Name: num_comments, dtype: int64\n"
     ]
    },
    {
     "data": {
      "image/png": "[encoded data removed]",
      "text/plain": [
       "<Figure size 640x480 with 1 Axes>"
      ]
     },
     "metadata": {},
     "output_type": "display_data"
    }
   ],
   "source": [
    "#Looking at distribution of comments in Show HN\n",
    "hn_showplot = hn_show['num_comments'].value_counts(bins=20).sort_index()\n",
    "print(hn_showplot)\n",
    "s = hn_show['num_comments'].plot(kind='hist', bins = 20, log=True)\n",
    "plt.yticks(ticks=a.get_yticks(),labels=['0.01', '0.1','1','10', '100', '1000' , '10,000', '100,000', '1,000,000'])\n",
    "plt.ylim(top=10000)\n",
    "plt.xlabel('Number of comments per post')\n",
    "plt.ylabel('Frequency (log scale)')\n",
    "plt.show()"
   ]
  },
  {
   "attachments": {},
   "cell_type": "markdown",
   "metadata": {},
   "source": [
    "Both Ask HN and Show HN posts have a postively skewed number of comments per post."
   ]
  },
  {
   "cell_type": "code",
   "execution_count": 9,
   "metadata": {},
   "outputs": [
    {
     "name": "stdout",
     "output_type": "stream",
     "text": [
      "Ask HN median number of comments per post: 2.0\n",
      "Show HN median number of comments per post: 0.0\n"
     ]
    }
   ],
   "source": [
    "#Since data is skewed, we should use median\n",
    "print('Ask HN median number of comments per post:', hn_ask['num_comments'].median())\n",
    "print('Show HN median number of comments per post:', hn_show['num_comments'].median())\n",
    "\n"
   ]
  },
  {
   "cell_type": "code",
   "execution_count": 10,
   "metadata": {},
   "outputs": [
    {
     "name": "stdout",
     "output_type": "stream",
     "text": [
      "106.3511378386383 7.16459451143857e-25\n"
     ]
    }
   ],
   "source": [
    "#Perform Levene test for equal variances\n",
    "st, pv = stats.levene(hn_ask['num_comments'],hn_show['num_comments'])\n",
    "print(st, pv)"
   ]
  },
  {
   "cell_type": "code",
   "execution_count": 11,
   "metadata": {},
   "outputs": [
    {
     "name": "stdout",
     "output_type": "stream",
     "text": [
      "pvalue = 1.1463337018246766e-29\n"
     ]
    }
   ],
   "source": [
    "#Running 2 samples t-test with unequal variance\n",
    "t_test, pvalue = stats.ttest_ind(hn_ask['num_comments'], hn_show['num_comments'],equal_var = False)\n",
    "print('pvalue =',pvalue)"
   ]
  },
  {
   "attachments": {},
   "cell_type": "markdown",
   "metadata": {},
   "source": [
    "Ask HN posts have higher median number of comments per post compared to Show HN and the difference is statistically significant (p<0.0001)."
   ]
  },
  {
   "attachments": {},
   "cell_type": "markdown",
   "metadata": {},
   "source": [
    "Next, we will be looking at whether the time of post affects the number of post interactions (by comments count)"
   ]
  },
  {
   "cell_type": "code",
   "execution_count": 12,
   "metadata": {},
   "outputs": [
    {
     "name": "stdout",
     "output_type": "stream",
     "text": [
      "10         9/26/2016 2:53\n",
      "42         9/26/2016 1:17\n",
      "76        9/25/2016 22:57\n",
      "80        9/25/2016 22:48\n",
      "102       9/25/2016 21:50\n",
      "               ...       \n",
      "293047     9/6/2015 11:27\n",
      "293052     9/6/2015 10:52\n",
      "293055     9/6/2015 10:46\n",
      "293073      9/6/2015 9:36\n",
      "293114      9/6/2015 6:02\n",
      "Name: created_at, Length: 9147, dtype: object\n"
     ]
    }
   ],
   "source": [
    "print(hn_ask['created_at'])"
   ]
  },
  {
   "cell_type": "code",
   "execution_count": 13,
   "metadata": {},
   "outputs": [
    {
     "name": "stdout",
     "output_type": "stream",
     "text": [
      "10         2\n",
      "42         1\n",
      "76        22\n",
      "80        22\n",
      "102       21\n",
      "          ..\n",
      "293047    11\n",
      "293052    10\n",
      "293055    10\n",
      "293073     9\n",
      "293114     6\n",
      "Name: post_hour, Length: 9147, dtype: int64\n"
     ]
    },
    {
     "name": "stderr",
     "output_type": "stream",
     "text": [
      "C:\\Users\\user\\AppData\\Local\\Temp\\ipykernel_18084\\2647025751.py:9: SettingWithCopyWarning: \n",
      "A value is trying to be set on a copy of a slice from a DataFrame.\n",
      "Try using .loc[row_indexer,col_indexer] = value instead\n",
      "\n",
      "See the caveats in the documentation: https://pandas.pydata.org/pandas-docs/stable/user_guide/indexing.html#returning-a-view-versus-a-copy\n",
      "  hn_ask['post_hour'] = timelist\n"
     ]
    }
   ],
   "source": [
    "time = hn_ask['created_at'].str.split(' ')\n",
    "timelist = []\n",
    "for x in time:\n",
    "    times = x[1]\n",
    "    hour = times.split(':')\n",
    "    hour = int(hour[0])\n",
    "    timelist.append(hour)\n",
    "\n",
    "hn_ask['post_hour'] = timelist\n",
    "print(hn_ask['post_hour'])"
   ]
  },
  {
   "cell_type": "code",
   "execution_count": 14,
   "metadata": {},
   "outputs": [
    {
     "data": {
      "image/png": "[encoded data removed]",
      "text/plain": [
       "<Figure size 640x480 with 1 Axes>"
      ]
     },
     "metadata": {},
     "output_type": "display_data"
    }
   ],
   "source": [
    "ask_hour = sns.boxplot(data = hn_ask, x='post_hour', y='num_comments', orient = 'v')\n"
   ]
  },
  {
   "cell_type": "code",
   "execution_count": 15,
   "metadata": {},
   "outputs": [
    {
     "data": {
      "text/html": [
       "<div>\n",
       "<style scoped>\n",
       "    .dataframe tbody tr th:only-of-type {\n",
       "        vertical-align: middle;\n",
       "    }\n",
       "\n",
       "    .dataframe tbody tr th {\n",
       "        vertical-align: top;\n",
       "    }\n",
       "\n",
       "    .dataframe thead th {\n",
       "        text-align: right;\n",
       "    }\n",
       "</style>\n",
       "<table border=\"1\" class=\"dataframe\">\n",
       "  <thead>\n",
       "    <tr style=\"text-align: right;\">\n",
       "      <th></th>\n",
       "      <th>max</th>\n",
       "      <th>mean</th>\n",
       "      <th>median</th>\n",
       "      <th>min</th>\n",
       "    </tr>\n",
       "    <tr>\n",
       "      <th>post_hour</th>\n",
       "      <th></th>\n",
       "      <th></th>\n",
       "      <th></th>\n",
       "      <th></th>\n",
       "    </tr>\n",
       "  </thead>\n",
       "  <tbody>\n",
       "    <tr>\n",
       "      <th>0</th>\n",
       "      <td>234</td>\n",
       "      <td>7.564784</td>\n",
       "      <td>2.0</td>\n",
       "      <td>0</td>\n",
       "    </tr>\n",
       "    <tr>\n",
       "      <th>1</th>\n",
       "      <td>285</td>\n",
       "      <td>7.407801</td>\n",
       "      <td>2.0</td>\n",
       "      <td>0</td>\n",
       "    </tr>\n",
       "    <tr>\n",
       "      <th>2</th>\n",
       "      <td>868</td>\n",
       "      <td>11.137546</td>\n",
       "      <td>4.0</td>\n",
       "      <td>0</td>\n",
       "    </tr>\n",
       "    <tr>\n",
       "      <th>3</th>\n",
       "      <td>151</td>\n",
       "      <td>7.937500</td>\n",
       "      <td>2.0</td>\n",
       "      <td>0</td>\n",
       "    </tr>\n",
       "    <tr>\n",
       "      <th>4</th>\n",
       "      <td>660</td>\n",
       "      <td>9.711934</td>\n",
       "      <td>2.0</td>\n",
       "      <td>0</td>\n",
       "    </tr>\n",
       "    <tr>\n",
       "      <th>5</th>\n",
       "      <td>490</td>\n",
       "      <td>8.766667</td>\n",
       "      <td>2.0</td>\n",
       "      <td>0</td>\n",
       "    </tr>\n",
       "    <tr>\n",
       "      <th>6</th>\n",
       "      <td>100</td>\n",
       "      <td>6.782051</td>\n",
       "      <td>2.0</td>\n",
       "      <td>0</td>\n",
       "    </tr>\n",
       "    <tr>\n",
       "      <th>7</th>\n",
       "      <td>244</td>\n",
       "      <td>7.013274</td>\n",
       "      <td>2.0</td>\n",
       "      <td>0</td>\n",
       "    </tr>\n",
       "    <tr>\n",
       "      <th>8</th>\n",
       "      <td>176</td>\n",
       "      <td>9.190661</td>\n",
       "      <td>2.0</td>\n",
       "      <td>0</td>\n",
       "    </tr>\n",
       "    <tr>\n",
       "      <th>9</th>\n",
       "      <td>97</td>\n",
       "      <td>6.653153</td>\n",
       "      <td>2.0</td>\n",
       "      <td>0</td>\n",
       "    </tr>\n",
       "    <tr>\n",
       "      <th>10</th>\n",
       "      <td>205</td>\n",
       "      <td>10.684397</td>\n",
       "      <td>3.0</td>\n",
       "      <td>0</td>\n",
       "    </tr>\n",
       "    <tr>\n",
       "      <th>11</th>\n",
       "      <td>266</td>\n",
       "      <td>8.964744</td>\n",
       "      <td>3.0</td>\n",
       "      <td>0</td>\n",
       "    </tr>\n",
       "    <tr>\n",
       "      <th>12</th>\n",
       "      <td>389</td>\n",
       "      <td>12.380117</td>\n",
       "      <td>3.0</td>\n",
       "      <td>0</td>\n",
       "    </tr>\n",
       "    <tr>\n",
       "      <th>13</th>\n",
       "      <td>767</td>\n",
       "      <td>16.317568</td>\n",
       "      <td>2.0</td>\n",
       "      <td>0</td>\n",
       "    </tr>\n",
       "    <tr>\n",
       "      <th>14</th>\n",
       "      <td>279</td>\n",
       "      <td>9.692008</td>\n",
       "      <td>2.0</td>\n",
       "      <td>0</td>\n",
       "    </tr>\n",
       "    <tr>\n",
       "      <th>15</th>\n",
       "      <td>1007</td>\n",
       "      <td>28.633694</td>\n",
       "      <td>2.0</td>\n",
       "      <td>0</td>\n",
       "    </tr>\n",
       "    <tr>\n",
       "      <th>16</th>\n",
       "      <td>691</td>\n",
       "      <td>7.700000</td>\n",
       "      <td>2.0</td>\n",
       "      <td>0</td>\n",
       "    </tr>\n",
       "    <tr>\n",
       "      <th>17</th>\n",
       "      <td>650</td>\n",
       "      <td>9.449744</td>\n",
       "      <td>2.0</td>\n",
       "      <td>0</td>\n",
       "    </tr>\n",
       "    <tr>\n",
       "      <th>18</th>\n",
       "      <td>383</td>\n",
       "      <td>7.942997</td>\n",
       "      <td>2.0</td>\n",
       "      <td>0</td>\n",
       "    </tr>\n",
       "    <tr>\n",
       "      <th>19</th>\n",
       "      <td>234</td>\n",
       "      <td>7.151899</td>\n",
       "      <td>2.0</td>\n",
       "      <td>0</td>\n",
       "    </tr>\n",
       "    <tr>\n",
       "      <th>20</th>\n",
       "      <td>514</td>\n",
       "      <td>8.733855</td>\n",
       "      <td>2.0</td>\n",
       "      <td>0</td>\n",
       "    </tr>\n",
       "    <tr>\n",
       "      <th>21</th>\n",
       "      <td>520</td>\n",
       "      <td>8.687259</td>\n",
       "      <td>2.0</td>\n",
       "      <td>0</td>\n",
       "    </tr>\n",
       "    <tr>\n",
       "      <th>22</th>\n",
       "      <td>352</td>\n",
       "      <td>8.804178</td>\n",
       "      <td>2.0</td>\n",
       "      <td>0</td>\n",
       "    </tr>\n",
       "    <tr>\n",
       "      <th>23</th>\n",
       "      <td>139</td>\n",
       "      <td>6.666667</td>\n",
       "      <td>3.0</td>\n",
       "      <td>0</td>\n",
       "    </tr>\n",
       "  </tbody>\n",
       "</table>\n",
       "</div>"
      ],
      "text/plain": [
       "            max       mean  median  min\n",
       "post_hour                              \n",
       "0           234   7.564784     2.0    0\n",
       "1           285   7.407801     2.0    0\n",
       "2           868  11.137546     4.0    0\n",
       "3           151   7.937500     2.0    0\n",
       "4           660   9.711934     2.0    0\n",
       "5           490   8.766667     2.0    0\n",
       "6           100   6.782051     2.0    0\n",
       "7           244   7.013274     2.0    0\n",
       "8           176   9.190661     2.0    0\n",
       "9            97   6.653153     2.0    0\n",
       "10          205  10.684397     3.0    0\n",
       "11          266   8.964744     3.0    0\n",
       "12          389  12.380117     3.0    0\n",
       "13          767  16.317568     2.0    0\n",
       "14          279   9.692008     2.0    0\n",
       "15         1007  28.633694     2.0    0\n",
       "16          691   7.700000     2.0    0\n",
       "17          650   9.449744     2.0    0\n",
       "18          383   7.942997     2.0    0\n",
       "19          234   7.151899     2.0    0\n",
       "20          514   8.733855     2.0    0\n",
       "21          520   8.687259     2.0    0\n",
       "22          352   8.804178     2.0    0\n",
       "23          139   6.666667     3.0    0"
      ]
     },
     "execution_count": 15,
     "metadata": {},
     "output_type": "execute_result"
    }
   ],
   "source": [
    "hn_ask.pivot_table(index = 'post_hour', values = 'num_comments', aggfunc = (np.mean, np.median, min, max))"
   ]
  },
  {
   "attachments": {},
   "cell_type": "markdown",
   "metadata": {},
   "source": [
    "Ask HN posts that are posted at 1500 hours appear to garner the most interaction via comments. It has the highest mean number of comments per post (28.6). When looking at the boxplot, there are more viral posts with high number of comments that are posted at 1500 hours compared to other time. <br>\n",
    "For normal, non-viral posts, 0200 hour posts had the highest median number of comment (4)."
   ]
  },
  {
   "cell_type": "code",
   "execution_count": 16,
   "metadata": {},
   "outputs": [
    {
     "name": "stdout",
     "output_type": "stream",
     "text": [
      "52         0\n",
      "58         0\n",
      "64        23\n",
      "70        23\n",
      "140       20\n",
      "          ..\n",
      "292995    14\n",
      "293002    13\n",
      "293019    13\n",
      "293028    12\n",
      "293037    12\n",
      "Name: post_hour, Length: 10189, dtype: int64\n"
     ]
    },
    {
     "name": "stderr",
     "output_type": "stream",
     "text": [
      "C:\\Users\\user\\AppData\\Local\\Temp\\ipykernel_18084\\269392714.py:10: SettingWithCopyWarning: \n",
      "A value is trying to be set on a copy of a slice from a DataFrame.\n",
      "Try using .loc[row_indexer,col_indexer] = value instead\n",
      "\n",
      "See the caveats in the documentation: https://pandas.pydata.org/pandas-docs/stable/user_guide/indexing.html#returning-a-view-versus-a-copy\n",
      "  hn_show['post_hour'] = timelistshow\n"
     ]
    }
   ],
   "source": [
    "#Checking if the pattern is the same with Show HN posts\n",
    "timeshow = hn_show['created_at'].str.split(' ')\n",
    "timelistshow = []\n",
    "for x in timeshow:\n",
    "    times = x[1]\n",
    "    hour = times.split(':')\n",
    "    hour = int(hour[0])\n",
    "    timelistshow.append(hour)\n",
    "\n",
    "hn_show['post_hour'] = timelistshow\n",
    "print(hn_show['post_hour'])"
   ]
  },
  {
   "cell_type": "code",
   "execution_count": 17,
   "metadata": {},
   "outputs": [
    {
     "data": {
      "image/png": "[encoded data removed]",
      "text/plain": [
       "<Figure size 640x480 with 1 Axes>"
      ]
     },
     "metadata": {},
     "output_type": "display_data"
    }
   ],
   "source": [
    "show_hour = sns.boxplot(data = hn_show, x='post_hour', y='num_comments', orient = 'v')"
   ]
  },
  {
   "cell_type": "code",
   "execution_count": 18,
   "metadata": {},
   "outputs": [
    {
     "data": {
      "text/html": [
       "<div>\n",
       "<style scoped>\n",
       "    .dataframe tbody tr th:only-of-type {\n",
       "        vertical-align: middle;\n",
       "    }\n",
       "\n",
       "    .dataframe tbody tr th {\n",
       "        vertical-align: top;\n",
       "    }\n",
       "\n",
       "    .dataframe thead th {\n",
       "        text-align: right;\n",
       "    }\n",
       "</style>\n",
       "<table border=\"1\" class=\"dataframe\">\n",
       "  <thead>\n",
       "    <tr style=\"text-align: right;\">\n",
       "      <th></th>\n",
       "      <th>max</th>\n",
       "      <th>mean</th>\n",
       "      <th>median</th>\n",
       "      <th>min</th>\n",
       "    </tr>\n",
       "    <tr>\n",
       "      <th>post_hour</th>\n",
       "      <th></th>\n",
       "      <th></th>\n",
       "      <th></th>\n",
       "      <th></th>\n",
       "    </tr>\n",
       "  </thead>\n",
       "  <tbody>\n",
       "    <tr>\n",
       "      <th>0</th>\n",
       "      <td>114</td>\n",
       "      <td>4.648551</td>\n",
       "      <td>1.0</td>\n",
       "      <td>0</td>\n",
       "    </tr>\n",
       "    <tr>\n",
       "      <th>1</th>\n",
       "      <td>86</td>\n",
       "      <td>4.060484</td>\n",
       "      <td>1.0</td>\n",
       "      <td>0</td>\n",
       "    </tr>\n",
       "    <tr>\n",
       "      <th>2</th>\n",
       "      <td>298</td>\n",
       "      <td>5.166667</td>\n",
       "      <td>0.5</td>\n",
       "      <td>0</td>\n",
       "    </tr>\n",
       "    <tr>\n",
       "      <th>3</th>\n",
       "      <td>62</td>\n",
       "      <td>4.516908</td>\n",
       "      <td>0.0</td>\n",
       "      <td>0</td>\n",
       "    </tr>\n",
       "    <tr>\n",
       "      <th>4</th>\n",
       "      <td>95</td>\n",
       "      <td>5.000000</td>\n",
       "      <td>0.0</td>\n",
       "      <td>0</td>\n",
       "    </tr>\n",
       "    <tr>\n",
       "      <th>5</th>\n",
       "      <td>96</td>\n",
       "      <td>3.441860</td>\n",
       "      <td>0.0</td>\n",
       "      <td>0</td>\n",
       "    </tr>\n",
       "    <tr>\n",
       "      <th>6</th>\n",
       "      <td>76</td>\n",
       "      <td>4.689119</td>\n",
       "      <td>0.0</td>\n",
       "      <td>0</td>\n",
       "    </tr>\n",
       "    <tr>\n",
       "      <th>7</th>\n",
       "      <td>280</td>\n",
       "      <td>6.682203</td>\n",
       "      <td>1.0</td>\n",
       "      <td>0</td>\n",
       "    </tr>\n",
       "    <tr>\n",
       "      <th>8</th>\n",
       "      <td>191</td>\n",
       "      <td>5.602524</td>\n",
       "      <td>1.0</td>\n",
       "      <td>0</td>\n",
       "    </tr>\n",
       "    <tr>\n",
       "      <th>9</th>\n",
       "      <td>168</td>\n",
       "      <td>4.672185</td>\n",
       "      <td>1.0</td>\n",
       "      <td>0</td>\n",
       "    </tr>\n",
       "    <tr>\n",
       "      <th>10</th>\n",
       "      <td>69</td>\n",
       "      <td>3.793210</td>\n",
       "      <td>0.0</td>\n",
       "      <td>0</td>\n",
       "    </tr>\n",
       "    <tr>\n",
       "      <th>11</th>\n",
       "      <td>199</td>\n",
       "      <td>5.975309</td>\n",
       "      <td>1.0</td>\n",
       "      <td>0</td>\n",
       "    </tr>\n",
       "    <tr>\n",
       "      <th>12</th>\n",
       "      <td>197</td>\n",
       "      <td>7.000000</td>\n",
       "      <td>1.0</td>\n",
       "      <td>0</td>\n",
       "    </tr>\n",
       "    <tr>\n",
       "      <th>13</th>\n",
       "      <td>250</td>\n",
       "      <td>5.433931</td>\n",
       "      <td>1.0</td>\n",
       "      <td>0</td>\n",
       "    </tr>\n",
       "    <tr>\n",
       "      <th>14</th>\n",
       "      <td>306</td>\n",
       "      <td>5.902579</td>\n",
       "      <td>0.0</td>\n",
       "      <td>0</td>\n",
       "    </tr>\n",
       "    <tr>\n",
       "      <th>15</th>\n",
       "      <td>127</td>\n",
       "      <td>4.566826</td>\n",
       "      <td>0.0</td>\n",
       "      <td>0</td>\n",
       "    </tr>\n",
       "    <tr>\n",
       "      <th>16</th>\n",
       "      <td>152</td>\n",
       "      <td>4.705368</td>\n",
       "      <td>0.0</td>\n",
       "      <td>0</td>\n",
       "    </tr>\n",
       "    <tr>\n",
       "      <th>17</th>\n",
       "      <td>167</td>\n",
       "      <td>4.246719</td>\n",
       "      <td>0.0</td>\n",
       "      <td>0</td>\n",
       "    </tr>\n",
       "    <tr>\n",
       "      <th>18</th>\n",
       "      <td>257</td>\n",
       "      <td>4.939210</td>\n",
       "      <td>0.0</td>\n",
       "      <td>0</td>\n",
       "    </tr>\n",
       "    <tr>\n",
       "      <th>19</th>\n",
       "      <td>211</td>\n",
       "      <td>5.019749</td>\n",
       "      <td>0.0</td>\n",
       "      <td>0</td>\n",
       "    </tr>\n",
       "    <tr>\n",
       "      <th>20</th>\n",
       "      <td>136</td>\n",
       "      <td>4.144213</td>\n",
       "      <td>0.0</td>\n",
       "      <td>0</td>\n",
       "    </tr>\n",
       "    <tr>\n",
       "      <th>21</th>\n",
       "      <td>167</td>\n",
       "      <td>4.113426</td>\n",
       "      <td>0.0</td>\n",
       "      <td>0</td>\n",
       "    </tr>\n",
       "    <tr>\n",
       "      <th>22</th>\n",
       "      <td>102</td>\n",
       "      <td>3.835979</td>\n",
       "      <td>1.0</td>\n",
       "      <td>0</td>\n",
       "    </tr>\n",
       "    <tr>\n",
       "      <th>23</th>\n",
       "      <td>157</td>\n",
       "      <td>4.548287</td>\n",
       "      <td>0.0</td>\n",
       "      <td>0</td>\n",
       "    </tr>\n",
       "  </tbody>\n",
       "</table>\n",
       "</div>"
      ],
      "text/plain": [
       "           max      mean  median  min\n",
       "post_hour                            \n",
       "0          114  4.648551     1.0    0\n",
       "1           86  4.060484     1.0    0\n",
       "2          298  5.166667     0.5    0\n",
       "3           62  4.516908     0.0    0\n",
       "4           95  5.000000     0.0    0\n",
       "5           96  3.441860     0.0    0\n",
       "6           76  4.689119     0.0    0\n",
       "7          280  6.682203     1.0    0\n",
       "8          191  5.602524     1.0    0\n",
       "9          168  4.672185     1.0    0\n",
       "10          69  3.793210     0.0    0\n",
       "11         199  5.975309     1.0    0\n",
       "12         197  7.000000     1.0    0\n",
       "13         250  5.433931     1.0    0\n",
       "14         306  5.902579     0.0    0\n",
       "15         127  4.566826     0.0    0\n",
       "16         152  4.705368     0.0    0\n",
       "17         167  4.246719     0.0    0\n",
       "18         257  4.939210     0.0    0\n",
       "19         211  5.019749     0.0    0\n",
       "20         136  4.144213     0.0    0\n",
       "21         167  4.113426     0.0    0\n",
       "22         102  3.835979     1.0    0\n",
       "23         157  4.548287     0.0    0"
      ]
     },
     "execution_count": 18,
     "metadata": {},
     "output_type": "execute_result"
    }
   ],
   "source": [
    "hn_show.pivot_table(index = 'post_hour', values = 'num_comments', aggfunc = (np.mean, np.median, min, max))"
   ]
  },
  {
   "attachments": {},
   "cell_type": "markdown",
   "metadata": {},
   "source": [
    "For Show HN posts, it typically receive lesser comment interactions compared to Ask HN posts. Based on the pivot table, posts that are posted at 1200 hour have the highest average number of comments (7) and is tied with multiple other timing in terms of median number of comments per post (1). "
   ]
  }
 ],
 "metadata": {
  "kernelspec": {
   "display_name": "Python 3",
   "language": "python",
   "name": "python3"
  },
  "language_info": {
   "codemirror_mode": {
    "name": "ipython",
    "version": 3
   },
   "file_extension": ".py",
   "mimetype": "text/x-python",
   "name": "python",
   "nbconvert_exporter": "python",
   "pygments_lexer": "ipython3",
   "version": "3.9.13"
  },
  "orig_nbformat": 4
 },
 "nbformat": 4,
 "nbformat_minor": 2
}
